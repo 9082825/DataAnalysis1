{
 "cells": [
  {
   "cell_type": "markdown",
   "id": "90d612aa",
   "metadata": {},
   "source": [
    "# **Cybersecurity Intrusion Detection Dataset **"
   ]
  },
  {
   "cell_type": "code",
   "execution_count": null,
   "id": "dbc3357c",
   "metadata": {},
   "outputs": [],
   "source": [
    "# Install dependencies (if not already installed)\n",
    "%pip install pandas matplotlib data-wrangler\n"
   ]
  },
  {
   "cell_type": "code",
   "execution_count": null,
   "id": "a3feab5c",
   "metadata": {},
   "outputs": [],
   "source": [
    "# Import required libraries\n",
    "import pandas as pd\n",
    "\n",
    "# Optional: make plots display inside notebook\n",
    "%matplotlib inline"
   ]
  },
  {
   "cell_type": "code",
   "execution_count": null,
   "id": "9174e740",
   "metadata": {},
   "outputs": [],
   "source": [
    "#  Load CSV file\n",
    "df = pd.read_csv(r\"C:\\Conestoga Projects\\Data Analysis\\Project 1\\.venv\\Data\\cybersecurity_intrusion_data.csv\")\n",
    "\n",
    "# Preview first rows\n",
    "df.head()"
   ]
  },
  {
   "cell_type": "code",
   "execution_count": null,
   "id": "abdc4740",
   "metadata": {},
   "outputs": [],
   "source": [
    "# Basic Data Analysis\n",
    "# Shape, summary statistics, and info\n",
    "print(\"Shape of dataset:\", df.shape)\n",
    "print(\"\\nData types:\\n\", df.dtypes)\n",
    "print(\"\\nSummary statistics:\\n\", df.describe())"
   ]
  },
  {
   "cell_type": "code",
   "execution_count": null,
   "id": "15a36334",
   "metadata": {},
   "outputs": [],
   "source": [
    "# Handle missing values\n",
    "# Show count of missing values per column\n",
    "df.isnull().sum()\n"
   ]
  },
  {
   "cell_type": "code",
   "execution_count": null,
   "id": "5b02e0c3",
   "metadata": {},
   "outputs": [],
   "source": [
    "# Simple Visualization Example\n",
    "# Replace 'column_name' with a real column from your CSV\n",
    "from matplotlib import pyplot as plt\n",
    "\n",
    "\n",
    "df['column_name'].value_counts().plot(kind='bar', figsize=(8,5))\n",
    "plt.title(\"Distribution of column_name\")\n",
    "plt.show()\n"
   ]
  },
  {
   "cell_type": "code",
   "execution_count": null,
   "id": "1ba281a3",
   "metadata": {},
   "outputs": [],
   "source": [
    "# Use Data Wrangler\n",
    "# Data Wrangler can be launched from JupyterLab or VS Code\n",
    "# In VS Code, right-click your dataframe (df) and select:\n",
    "# \"Open in Data Wrangler\"\n",
    "\n",
    "df\n"
   ]
  }
 ],
 "metadata": {
  "kernelspec": {
   "display_name": ".venv",
   "language": "python",
   "name": "python3"
  },
  "language_info": {
   "codemirror_mode": {
    "name": "ipython",
    "version": 3
   },
   "file_extension": ".py",
   "mimetype": "text/x-python",
   "name": "python",
   "nbconvert_exporter": "python",
   "pygments_lexer": "ipython3",
   "version": "3.13.7"
  }
 },
 "nbformat": 4,
 "nbformat_minor": 5
}
