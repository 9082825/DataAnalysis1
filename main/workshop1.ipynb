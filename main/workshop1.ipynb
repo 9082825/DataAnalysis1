{
 "cells": [
  {
   "cell_type": "markdown",
   "id": "ef02214b",
   "metadata": {},
   "source": [
    "### Data Analysis Mathematics, Algorithms and Modeling\n",
    "`PROG8431 - Fall 2025 - Section 1`\n",
    "\n",
    "Problem Analysis Workshop 1 - Data Collection and Analysis"
   ]
  },
  {
   "cell_type": "markdown",
   "id": "fe3966b0",
   "metadata": {},
   "source": [
    "\n",
    "#### THE TEAM\n",
    "1. George Jose\n",
    "2. Lawal Oluwafemi\n",
    "3. Kamamo Lesley \n",
    "\n",
    "\n"
   ]
  },
  {
   "cell_type": "markdown",
   "id": "61516bf3",
   "metadata": {},
   "source": [
    "#### `FIELD OF INQUIRY`\n",
    "CyberSecurity\n",
    "\n",
    "#### `The Problem`\n",
    "**How does poorly defined cybersecurity protocols affect telecom networks**\n",
    "\n",
    "#### `The Prompt to Gen Ai`\n",
    "You are a Cybersecurity analyst. Analyze the impact of poorly defined research questions in cybersecurity. Provide examples where vague or overly broad security goals led to ineffective strategies or wasted resources. Compare these with cases where well-defined, specific questions produced actionable results. Summarize key recommendations for framing precise and effective research questions in cybersecurity.\n",
    "\n",
    "#### `ESSAY ON FINDINGS`\n",
    "\n",
    "Below is the short 100 word essay, from Gen AI to base our findings on the Field of Cyber Security:\n",
    "\n",
    "Poorly defined research questions in cybersecurity often lead to wasted resources and weak defenses. Broad goals like “prevent cyberattacks” lack focus, causing organizations to invest in generic tools rather than addressing real threats. For example, vague cloud security strategies often overlook identity management, a frequent breach cause. In contrast, well-defined questions such as “How to cut phishing success rates by 50% in one year?” enable measurable, actionable solutions like user training and email filtering. Effective cybersecurity research demands precision, scope, and context. Clear questions drive targeted defenses, maximize resources, and strengthen resilience against evolving threats\n",
    "\n",
    "\n",
    "#### `Goal of this project:` \n",
    "\n",
    "The goal is to detect potential intrusions (cyberattacks) in network sessions using features like packet size, login attempts, session duration, IP reputation, and unusual access patterns. \n",
    "\n",
    "#### `Sources of the Information`\n",
    "https://www.kaggle.com/datasets/dnkumars/cybersecurity-intrusion-detection-dataset\n",
    "\n",
    "\n"
   ]
  },
  {
   "cell_type": "code",
   "execution_count": 2,
   "id": "27f9f3a3",
   "metadata": {},
   "outputs": [],
   "source": [
    "# import libraries\n",
    "import pandas as pd\n",
    "import numpy as np"
   ]
  },
  {
   "cell_type": "code",
   "execution_count": 5,
   "id": "dfb45ad4",
   "metadata": {},
   "outputs": [
    {
     "data": {
      "application/vnd.microsoft.datawrangler.viewer.v0+json": {
       "columns": [
        {
         "name": "index",
         "rawType": "int64",
         "type": "integer"
        },
        {
         "name": "session_id",
         "rawType": "object",
         "type": "string"
        },
        {
         "name": "network_packet_size",
         "rawType": "int64",
         "type": "integer"
        },
        {
         "name": "protocol_type",
         "rawType": "object",
         "type": "string"
        },
        {
         "name": "login_attempts",
         "rawType": "int64",
         "type": "integer"
        },
        {
         "name": "session_duration",
         "rawType": "float64",
         "type": "float"
        },
        {
         "name": "encryption_used",
         "rawType": "object",
         "type": "string"
        },
        {
         "name": "ip_reputation_score",
         "rawType": "float64",
         "type": "float"
        },
        {
         "name": "failed_logins",
         "rawType": "int64",
         "type": "integer"
        },
        {
         "name": "browser_type",
         "rawType": "object",
         "type": "string"
        },
        {
         "name": "unusual_time_access",
         "rawType": "int64",
         "type": "integer"
        },
        {
         "name": "attack_detected",
         "rawType": "int64",
         "type": "integer"
        }
       ],
       "ref": "b2d2a5fe-e5ba-4f9b-95ca-db668577d7c1",
       "rows": [
        [
         "0",
         "SID_00001",
         "599",
         "TCP",
         "4",
         "492.9832634426563",
         "DES",
         "0.606818080396889",
         "1",
         "Edge",
         "0",
         "1"
        ],
        [
         "1",
         "SID_00002",
         "472",
         "TCP",
         "3",
         "1557.9964611204384",
         "DES",
         "0.3015689675960893",
         "0",
         "Firefox",
         "0",
         "0"
        ],
        [
         "2",
         "SID_00003",
         "629",
         "TCP",
         "3",
         "75.04426166420741",
         "DES",
         "0.7391643279163831",
         "2",
         "Chrome",
         "0",
         "1"
        ],
        [
         "3",
         "SID_00004",
         "804",
         "UDP",
         "4",
         "601.2488351708328",
         "DES",
         "0.1232671757524846",
         "0",
         "Unknown",
         "0",
         "1"
        ],
        [
         "4",
         "SID_00005",
         "453",
         "TCP",
         "5",
         "532.5408884201419",
         "AES",
         "0.0548738567431703",
         "1",
         "Firefox",
         "0",
         "0"
        ]
       ],
       "shape": {
        "columns": 11,
        "rows": 5
       }
      },
      "text/html": [
       "<div>\n",
       "<style scoped>\n",
       "    .dataframe tbody tr th:only-of-type {\n",
       "        vertical-align: middle;\n",
       "    }\n",
       "\n",
       "    .dataframe tbody tr th {\n",
       "        vertical-align: top;\n",
       "    }\n",
       "\n",
       "    .dataframe thead th {\n",
       "        text-align: right;\n",
       "    }\n",
       "</style>\n",
       "<table border=\"1\" class=\"dataframe\">\n",
       "  <thead>\n",
       "    <tr style=\"text-align: right;\">\n",
       "      <th></th>\n",
       "      <th>session_id</th>\n",
       "      <th>network_packet_size</th>\n",
       "      <th>protocol_type</th>\n",
       "      <th>login_attempts</th>\n",
       "      <th>session_duration</th>\n",
       "      <th>encryption_used</th>\n",
       "      <th>ip_reputation_score</th>\n",
       "      <th>failed_logins</th>\n",
       "      <th>browser_type</th>\n",
       "      <th>unusual_time_access</th>\n",
       "      <th>attack_detected</th>\n",
       "    </tr>\n",
       "  </thead>\n",
       "  <tbody>\n",
       "    <tr>\n",
       "      <th>0</th>\n",
       "      <td>SID_00001</td>\n",
       "      <td>599</td>\n",
       "      <td>TCP</td>\n",
       "      <td>4</td>\n",
       "      <td>492.983263</td>\n",
       "      <td>DES</td>\n",
       "      <td>0.606818</td>\n",
       "      <td>1</td>\n",
       "      <td>Edge</td>\n",
       "      <td>0</td>\n",
       "      <td>1</td>\n",
       "    </tr>\n",
       "    <tr>\n",
       "      <th>1</th>\n",
       "      <td>SID_00002</td>\n",
       "      <td>472</td>\n",
       "      <td>TCP</td>\n",
       "      <td>3</td>\n",
       "      <td>1557.996461</td>\n",
       "      <td>DES</td>\n",
       "      <td>0.301569</td>\n",
       "      <td>0</td>\n",
       "      <td>Firefox</td>\n",
       "      <td>0</td>\n",
       "      <td>0</td>\n",
       "    </tr>\n",
       "    <tr>\n",
       "      <th>2</th>\n",
       "      <td>SID_00003</td>\n",
       "      <td>629</td>\n",
       "      <td>TCP</td>\n",
       "      <td>3</td>\n",
       "      <td>75.044262</td>\n",
       "      <td>DES</td>\n",
       "      <td>0.739164</td>\n",
       "      <td>2</td>\n",
       "      <td>Chrome</td>\n",
       "      <td>0</td>\n",
       "      <td>1</td>\n",
       "    </tr>\n",
       "    <tr>\n",
       "      <th>3</th>\n",
       "      <td>SID_00004</td>\n",
       "      <td>804</td>\n",
       "      <td>UDP</td>\n",
       "      <td>4</td>\n",
       "      <td>601.248835</td>\n",
       "      <td>DES</td>\n",
       "      <td>0.123267</td>\n",
       "      <td>0</td>\n",
       "      <td>Unknown</td>\n",
       "      <td>0</td>\n",
       "      <td>1</td>\n",
       "    </tr>\n",
       "    <tr>\n",
       "      <th>4</th>\n",
       "      <td>SID_00005</td>\n",
       "      <td>453</td>\n",
       "      <td>TCP</td>\n",
       "      <td>5</td>\n",
       "      <td>532.540888</td>\n",
       "      <td>AES</td>\n",
       "      <td>0.054874</td>\n",
       "      <td>1</td>\n",
       "      <td>Firefox</td>\n",
       "      <td>0</td>\n",
       "      <td>0</td>\n",
       "    </tr>\n",
       "  </tbody>\n",
       "</table>\n",
       "</div>"
      ],
      "text/plain": [
       "  session_id  network_packet_size protocol_type  login_attempts  \\\n",
       "0  SID_00001                  599           TCP               4   \n",
       "1  SID_00002                  472           TCP               3   \n",
       "2  SID_00003                  629           TCP               3   \n",
       "3  SID_00004                  804           UDP               4   \n",
       "4  SID_00005                  453           TCP               5   \n",
       "\n",
       "   session_duration encryption_used  ip_reputation_score  failed_logins  \\\n",
       "0        492.983263             DES             0.606818              1   \n",
       "1       1557.996461             DES             0.301569              0   \n",
       "2         75.044262             DES             0.739164              2   \n",
       "3        601.248835             DES             0.123267              0   \n",
       "4        532.540888             AES             0.054874              1   \n",
       "\n",
       "  browser_type  unusual_time_access  attack_detected  \n",
       "0         Edge                    0                1  \n",
       "1      Firefox                    0                0  \n",
       "2       Chrome                    0                1  \n",
       "3      Unknown                    0                1  \n",
       "4      Firefox                    0                0  "
      ]
     },
     "execution_count": 5,
     "metadata": {},
     "output_type": "execute_result"
    }
   ],
   "source": [
    "# import dataset\n",
    "file_path = \"../data/cybersecurity_intrusion_data.csv\"\n",
    "df = pd.read_csv(file_path)\n",
    "\n",
    "# display the first 5 rows of the dataset\n",
    "df.head()\n"
   ]
  },
  {
   "cell_type": "code",
   "execution_count": 6,
   "id": "34b1996b",
   "metadata": {},
   "outputs": [
    {
     "data": {
      "text/plain": [
       "Index(['session_id', 'network_packet_size', 'protocol_type', 'login_attempts',\n",
       "       'session_duration', 'encryption_used', 'ip_reputation_score',\n",
       "       'failed_logins', 'browser_type', 'unusual_time_access',\n",
       "       'attack_detected'],\n",
       "      dtype='object')"
      ]
     },
     "execution_count": 6,
     "metadata": {},
     "output_type": "execute_result"
    }
   ],
   "source": [
    "df.columns"
   ]
  },
  {
   "cell_type": "code",
   "execution_count": 7,
   "id": "b45b1687",
   "metadata": {},
   "outputs": [
    {
     "data": {
      "application/vnd.microsoft.datawrangler.viewer.v0+json": {
       "columns": [
        {
         "name": "index",
         "rawType": "object",
         "type": "string"
        },
        {
         "name": "0",
         "rawType": "object",
         "type": "unknown"
        }
       ],
       "ref": "a61157e5-2dd2-46da-81b4-c32b334e8dfd",
       "rows": [
        [
         "session_id",
         "object"
        ],
        [
         "network_packet_size",
         "int64"
        ],
        [
         "protocol_type",
         "object"
        ],
        [
         "login_attempts",
         "int64"
        ],
        [
         "session_duration",
         "float64"
        ],
        [
         "encryption_used",
         "object"
        ],
        [
         "ip_reputation_score",
         "float64"
        ],
        [
         "failed_logins",
         "int64"
        ],
        [
         "browser_type",
         "object"
        ],
        [
         "unusual_time_access",
         "int64"
        ],
        [
         "attack_detected",
         "int64"
        ]
       ],
       "shape": {
        "columns": 1,
        "rows": 11
       }
      },
      "text/plain": [
       "session_id              object\n",
       "network_packet_size      int64\n",
       "protocol_type           object\n",
       "login_attempts           int64\n",
       "session_duration       float64\n",
       "encryption_used         object\n",
       "ip_reputation_score    float64\n",
       "failed_logins            int64\n",
       "browser_type            object\n",
       "unusual_time_access      int64\n",
       "attack_detected          int64\n",
       "dtype: object"
      ]
     },
     "execution_count": 7,
     "metadata": {},
     "output_type": "execute_result"
    }
   ],
   "source": [
    "# dispaly the data types\n",
    "df.dtypes"
   ]
  },
  {
   "cell_type": "markdown",
   "id": "7b9e684e",
   "metadata": {},
   "source": [
    "### Data Exploration"
   ]
  },
  {
   "cell_type": "code",
   "execution_count": 8,
   "id": "05bcc91e",
   "metadata": {},
   "outputs": [
    {
     "data": {
      "text/plain": [
       "(9537, 11)"
      ]
     },
     "execution_count": 8,
     "metadata": {},
     "output_type": "execute_result"
    }
   ],
   "source": [
    "# display shape - entire dataset\n",
    "df.shape"
   ]
  },
  {
   "cell_type": "code",
   "execution_count": 9,
   "id": "d7bf1b18",
   "metadata": {},
   "outputs": [
    {
     "data": {
      "application/vnd.microsoft.datawrangler.viewer.v0+json": {
       "columns": [
        {
         "name": "index",
         "rawType": "object",
         "type": "string"
        },
        {
         "name": "network_packet_size",
         "rawType": "float64",
         "type": "float"
        },
        {
         "name": "login_attempts",
         "rawType": "float64",
         "type": "float"
        },
        {
         "name": "session_duration",
         "rawType": "float64",
         "type": "float"
        },
        {
         "name": "ip_reputation_score",
         "rawType": "float64",
         "type": "float"
        },
        {
         "name": "failed_logins",
         "rawType": "float64",
         "type": "float"
        },
        {
         "name": "unusual_time_access",
         "rawType": "float64",
         "type": "float"
        },
        {
         "name": "attack_detected",
         "rawType": "float64",
         "type": "float"
        }
       ],
       "ref": "20b24ab7-c197-4231-b728-09134a9a719d",
       "rows": [
        [
         "count",
         "9537.0",
         "9537.0",
         "9537.0",
         "9537.0",
         "9537.0",
         "9537.0",
         "9537.0"
        ],
        [
         "mean",
         "500.43063856558666",
         "4.032085561497326",
         "792.7453115595799",
         "0.33133799992013835",
         "1.5177728845548915",
         "0.14994232987312572",
         "0.44710076543986577"
        ],
        [
         "std",
         "198.37936357533687",
         "1.9630121541933143",
         "786.5601443335571",
         "0.1771748703067855",
         "1.0339881279940444",
         "0.35703360309299476",
         "0.4972198648253836"
        ],
        [
         "min",
         "64.0",
         "1.0",
         "0.5",
         "0.0024968331802346",
         "0.0",
         "0.0",
         "0.0"
        ],
        [
         "25%",
         "365.0",
         "3.0",
         "231.95300642419463",
         "0.191946488079701",
         "1.0",
         "0.0",
         "0.0"
        ],
        [
         "50%",
         "499.0",
         "4.0",
         "556.277457433342",
         "0.3147781474345736",
         "1.0",
         "0.0",
         "0.0"
        ],
        [
         "75%",
         "635.0",
         "5.0",
         "1105.3806022240433",
         "0.4533878446573279",
         "2.0",
         "0.0",
         "1.0"
        ],
        [
         "max",
         "1285.0",
         "13.0",
         "7190.392212563188",
         "0.924299191969215",
         "5.0",
         "1.0",
         "1.0"
        ]
       ],
       "shape": {
        "columns": 7,
        "rows": 8
       }
      },
      "text/html": [
       "<div>\n",
       "<style scoped>\n",
       "    .dataframe tbody tr th:only-of-type {\n",
       "        vertical-align: middle;\n",
       "    }\n",
       "\n",
       "    .dataframe tbody tr th {\n",
       "        vertical-align: top;\n",
       "    }\n",
       "\n",
       "    .dataframe thead th {\n",
       "        text-align: right;\n",
       "    }\n",
       "</style>\n",
       "<table border=\"1\" class=\"dataframe\">\n",
       "  <thead>\n",
       "    <tr style=\"text-align: right;\">\n",
       "      <th></th>\n",
       "      <th>network_packet_size</th>\n",
       "      <th>login_attempts</th>\n",
       "      <th>session_duration</th>\n",
       "      <th>ip_reputation_score</th>\n",
       "      <th>failed_logins</th>\n",
       "      <th>unusual_time_access</th>\n",
       "      <th>attack_detected</th>\n",
       "    </tr>\n",
       "  </thead>\n",
       "  <tbody>\n",
       "    <tr>\n",
       "      <th>count</th>\n",
       "      <td>9537.000000</td>\n",
       "      <td>9537.000000</td>\n",
       "      <td>9537.000000</td>\n",
       "      <td>9537.000000</td>\n",
       "      <td>9537.000000</td>\n",
       "      <td>9537.000000</td>\n",
       "      <td>9537.000000</td>\n",
       "    </tr>\n",
       "    <tr>\n",
       "      <th>mean</th>\n",
       "      <td>500.430639</td>\n",
       "      <td>4.032086</td>\n",
       "      <td>792.745312</td>\n",
       "      <td>0.331338</td>\n",
       "      <td>1.517773</td>\n",
       "      <td>0.149942</td>\n",
       "      <td>0.447101</td>\n",
       "    </tr>\n",
       "    <tr>\n",
       "      <th>std</th>\n",
       "      <td>198.379364</td>\n",
       "      <td>1.963012</td>\n",
       "      <td>786.560144</td>\n",
       "      <td>0.177175</td>\n",
       "      <td>1.033988</td>\n",
       "      <td>0.357034</td>\n",
       "      <td>0.497220</td>\n",
       "    </tr>\n",
       "    <tr>\n",
       "      <th>min</th>\n",
       "      <td>64.000000</td>\n",
       "      <td>1.000000</td>\n",
       "      <td>0.500000</td>\n",
       "      <td>0.002497</td>\n",
       "      <td>0.000000</td>\n",
       "      <td>0.000000</td>\n",
       "      <td>0.000000</td>\n",
       "    </tr>\n",
       "    <tr>\n",
       "      <th>25%</th>\n",
       "      <td>365.000000</td>\n",
       "      <td>3.000000</td>\n",
       "      <td>231.953006</td>\n",
       "      <td>0.191946</td>\n",
       "      <td>1.000000</td>\n",
       "      <td>0.000000</td>\n",
       "      <td>0.000000</td>\n",
       "    </tr>\n",
       "    <tr>\n",
       "      <th>50%</th>\n",
       "      <td>499.000000</td>\n",
       "      <td>4.000000</td>\n",
       "      <td>556.277457</td>\n",
       "      <td>0.314778</td>\n",
       "      <td>1.000000</td>\n",
       "      <td>0.000000</td>\n",
       "      <td>0.000000</td>\n",
       "    </tr>\n",
       "    <tr>\n",
       "      <th>75%</th>\n",
       "      <td>635.000000</td>\n",
       "      <td>5.000000</td>\n",
       "      <td>1105.380602</td>\n",
       "      <td>0.453388</td>\n",
       "      <td>2.000000</td>\n",
       "      <td>0.000000</td>\n",
       "      <td>1.000000</td>\n",
       "    </tr>\n",
       "    <tr>\n",
       "      <th>max</th>\n",
       "      <td>1285.000000</td>\n",
       "      <td>13.000000</td>\n",
       "      <td>7190.392213</td>\n",
       "      <td>0.924299</td>\n",
       "      <td>5.000000</td>\n",
       "      <td>1.000000</td>\n",
       "      <td>1.000000</td>\n",
       "    </tr>\n",
       "  </tbody>\n",
       "</table>\n",
       "</div>"
      ],
      "text/plain": [
       "       network_packet_size  login_attempts  session_duration  \\\n",
       "count          9537.000000     9537.000000       9537.000000   \n",
       "mean            500.430639        4.032086        792.745312   \n",
       "std             198.379364        1.963012        786.560144   \n",
       "min              64.000000        1.000000          0.500000   \n",
       "25%             365.000000        3.000000        231.953006   \n",
       "50%             499.000000        4.000000        556.277457   \n",
       "75%             635.000000        5.000000       1105.380602   \n",
       "max            1285.000000       13.000000       7190.392213   \n",
       "\n",
       "       ip_reputation_score  failed_logins  unusual_time_access  \\\n",
       "count          9537.000000    9537.000000          9537.000000   \n",
       "mean              0.331338       1.517773             0.149942   \n",
       "std               0.177175       1.033988             0.357034   \n",
       "min               0.002497       0.000000             0.000000   \n",
       "25%               0.191946       1.000000             0.000000   \n",
       "50%               0.314778       1.000000             0.000000   \n",
       "75%               0.453388       2.000000             0.000000   \n",
       "max               0.924299       5.000000             1.000000   \n",
       "\n",
       "       attack_detected  \n",
       "count      9537.000000  \n",
       "mean          0.447101  \n",
       "std           0.497220  \n",
       "min           0.000000  \n",
       "25%           0.000000  \n",
       "50%           0.000000  \n",
       "75%           1.000000  \n",
       "max           1.000000  "
      ]
     },
     "execution_count": 9,
     "metadata": {},
     "output_type": "execute_result"
    }
   ],
   "source": [
    "df.describe()"
   ]
  },
  {
   "cell_type": "code",
   "execution_count": 10,
   "id": "74f73fa0",
   "metadata": {},
   "outputs": [
    {
     "data": {
      "application/vnd.microsoft.datawrangler.viewer.v0+json": {
       "columns": [
        {
         "name": "index",
         "rawType": "object",
         "type": "string"
        },
        {
         "name": "0",
         "rawType": "int64",
         "type": "integer"
        }
       ],
       "ref": "7f46df8b-1789-43c3-9627-7d70e08f788c",
       "rows": [
        [
         "session_id",
         "0"
        ],
        [
         "network_packet_size",
         "0"
        ],
        [
         "protocol_type",
         "0"
        ],
        [
         "login_attempts",
         "0"
        ],
        [
         "session_duration",
         "0"
        ],
        [
         "encryption_used",
         "1966"
        ],
        [
         "ip_reputation_score",
         "0"
        ],
        [
         "failed_logins",
         "0"
        ],
        [
         "browser_type",
         "0"
        ],
        [
         "unusual_time_access",
         "0"
        ],
        [
         "attack_detected",
         "0"
        ]
       ],
       "shape": {
        "columns": 1,
        "rows": 11
       }
      },
      "text/plain": [
       "session_id                0\n",
       "network_packet_size       0\n",
       "protocol_type             0\n",
       "login_attempts            0\n",
       "session_duration          0\n",
       "encryption_used        1966\n",
       "ip_reputation_score       0\n",
       "failed_logins             0\n",
       "browser_type              0\n",
       "unusual_time_access       0\n",
       "attack_detected           0\n",
       "dtype: int64"
      ]
     },
     "execution_count": 10,
     "metadata": {},
     "output_type": "execute_result"
    }
   ],
   "source": [
    "# Check for missing values\n",
    "df.isnull().sum()"
   ]
  },
  {
   "cell_type": "code",
   "execution_count": 12,
   "id": "e172f264",
   "metadata": {},
   "outputs": [
    {
     "data": {
      "application/vnd.microsoft.datawrangler.viewer.v0+json": {
       "columns": [
        {
         "name": "index",
         "rawType": "int64",
         "type": "integer"
        },
        {
         "name": "0",
         "rawType": "bool",
         "type": "boolean"
        }
       ],
       "ref": "3ac6ca2e-948a-493c-9f0e-dc108980d956",
       "rows": [
        [
         "0",
         "False"
        ],
        [
         "1",
         "False"
        ],
        [
         "2",
         "False"
        ],
        [
         "3",
         "False"
        ],
        [
         "4",
         "False"
        ],
        [
         "5",
         "False"
        ],
        [
         "6",
         "False"
        ],
        [
         "7",
         "False"
        ],
        [
         "8",
         "False"
        ],
        [
         "9",
         "False"
        ],
        [
         "10",
         "False"
        ],
        [
         "11",
         "False"
        ],
        [
         "12",
         "False"
        ],
        [
         "13",
         "False"
        ],
        [
         "14",
         "False"
        ],
        [
         "15",
         "False"
        ],
        [
         "16",
         "False"
        ],
        [
         "17",
         "False"
        ],
        [
         "18",
         "False"
        ],
        [
         "19",
         "False"
        ],
        [
         "20",
         "False"
        ],
        [
         "21",
         "False"
        ],
        [
         "22",
         "False"
        ],
        [
         "23",
         "False"
        ],
        [
         "24",
         "False"
        ],
        [
         "25",
         "False"
        ],
        [
         "26",
         "False"
        ],
        [
         "27",
         "False"
        ],
        [
         "28",
         "False"
        ],
        [
         "29",
         "False"
        ],
        [
         "30",
         "False"
        ],
        [
         "31",
         "False"
        ],
        [
         "32",
         "False"
        ],
        [
         "33",
         "False"
        ],
        [
         "34",
         "False"
        ],
        [
         "35",
         "False"
        ],
        [
         "36",
         "False"
        ],
        [
         "37",
         "False"
        ],
        [
         "38",
         "False"
        ],
        [
         "39",
         "False"
        ],
        [
         "40",
         "False"
        ],
        [
         "41",
         "False"
        ],
        [
         "42",
         "False"
        ],
        [
         "43",
         "False"
        ],
        [
         "44",
         "False"
        ],
        [
         "45",
         "False"
        ],
        [
         "46",
         "False"
        ],
        [
         "47",
         "False"
        ],
        [
         "48",
         "False"
        ],
        [
         "49",
         "False"
        ]
       ],
       "shape": {
        "columns": 1,
        "rows": 9537
       }
      },
      "text/plain": [
       "0       False\n",
       "1       False\n",
       "2       False\n",
       "3       False\n",
       "4       False\n",
       "        ...  \n",
       "9532    False\n",
       "9533    False\n",
       "9534    False\n",
       "9535    False\n",
       "9536    False\n",
       "Length: 9537, dtype: bool"
      ]
     },
     "execution_count": 12,
     "metadata": {},
     "output_type": "execute_result"
    }
   ],
   "source": [
    "# Check for duplicates\n",
    "df.duplicated()"
   ]
  },
  {
   "cell_type": "markdown",
   "id": "905be797",
   "metadata": {},
   "source": [
    "### Data Cleaning\n",
    "\n",
    "- This process is to standardize data such that the dataset is transformed for better analysis\n",
    "- Some of the quiestion we could ask oursleves:\n",
    "1. How to deal with missing values (empty cells)\n",
    "2. Should we normalize data types (Convert numbers stored as text to numbers)\n",
    "3. How to deal with duplicated values\n",
    "4. Fixing Structural inconsistencies (Change text to upper/lower case, replacing some text - gender, dropping of unnecessary columns)\n",
    "5. Check for Outliers\n"
   ]
  },
  {
   "cell_type": "markdown",
   "id": "e35346e0",
   "metadata": {},
   "source": []
  }
 ],
 "metadata": {
  "kernelspec": {
   "display_name": ".venv",
   "language": "python",
   "name": "python3"
  },
  "language_info": {
   "codemirror_mode": {
    "name": "ipython",
    "version": 3
   },
   "file_extension": ".py",
   "mimetype": "text/x-python",
   "name": "python",
   "nbconvert_exporter": "python",
   "pygments_lexer": "ipython3",
   "version": "3.12.1"
  }
 },
 "nbformat": 4,
 "nbformat_minor": 5
}
