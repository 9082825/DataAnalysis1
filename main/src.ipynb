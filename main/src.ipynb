{
 "cells": [
  {
   "cell_type": "markdown",
   "id": "90d612aa",
   "metadata": {},
   "source": [
    "# **Cybersecurity Intrusion Detection Dataset **"
   ]
  },
  {
   "cell_type": "code",
   "execution_count": null,
   "id": "dbc3357c",
   "metadata": {},
   "outputs": [],
   "source": [
    "# Install dependencies (if not already installed)\n",
    "%pip install pandas matplotlib data-wrangler seaborn\n"
   ]
  },
  {
   "cell_type": "code",
   "execution_count": 23,
   "id": "a3feab5c",
   "metadata": {},
   "outputs": [],
   "source": [
    "# Import required libraries\n",
    "import numpy as np\n",
    "import pandas as pd\n",
    "import matplotlib.pyplot as plt\n",
    "import seaborn as sns # type: ignore\n",
    "import warnings\n",
    "\n",
    "warnings.filterwarnings('ignore')\n",
    "\n",
    "# import the necessary libraries\n",
    "\n",
    "# Optional: make plots display inside notebook\n",
    "%matplotlib inline"
   ]
  },
  {
   "cell_type": "code",
   "execution_count": null,
   "id": "9174e740",
   "metadata": {},
   "outputs": [],
   "source": [
    "#  Load CSV file\n",
    "df = pd.read_csv(r\"C:\\Conestoga Projects\\Data Analysis\\Project 1\\.venv\\Data\\cybersecurity_intrusion_data.csv\")\n",
    "\n",
    "# Preview first rows\n",
    "df.head()"
   ]
  },
  {
   "cell_type": "code",
   "execution_count": null,
   "id": "9b66b4b2",
   "metadata": {},
   "outputs": [],
   "source": [
    "# Cleaning the Dataset\n",
    "df.columns = df.columns.str.strip().str.lower().str.replace(\" \", \"_\")\n",
    "\n",
    "#Handling duplicates\n",
    "df = df.drop_duplicates() \n",
    "\n",
    "# Handle missing values\n",
    "# Example: fill numeric with median, categorical with \"Unknown\"\n",
    "num_cols = df.select_dtypes(include=[\"int64\", \"float64\"]).columns\n",
    "cat_cols = df.select_dtypes(include=[\"object\"]).columns\n",
    "for col in num_cols:\n",
    "    df[col] = df[col].fillna(df[col].median())\n",
    "\n",
    "for col in cat_cols:\n",
    "    df[col] = df[col].fillna(\"Unknown\")\n",
    "\n",
    "\n",
    "#Standardize categorical text (remove spaces, title case)\n",
    "for col in cat_cols:\n",
    "    df[col] = df[col].astype(str).str.strip().str.title()\n",
    "\n",
    "\n",
    "# Handle outliers (basic example: cap numeric values at 1st–99th percentile)\n",
    "for col in num_cols:\n",
    "    lower = df[col].quantile(0.01)\n",
    "    upper = df[col].quantile(0.99)\n",
    "    df[col] = df[col].clip(lower, upper)\n",
    "\n",
    "#Final check\n",
    "print(\"\\n Cleaned Shape:\", df.shape)\n",
    "print(\"\\nMissing values per column:\\n\", df.isnull().sum()) \n",
    "\n",
    "#Save cleaned dataset\n",
    "df.to_csv(r\"C:\\Conestoga Projects\\Data Analysis\\Project 1\\.venv\\Data\\cybersecurity_intrusion_data_cleaned.csv\", index=False)\n",
    "print(\"\\n Cleaned file saved!\")"
   ]
  },
  {
   "cell_type": "code",
   "execution_count": null,
   "id": "abdc4740",
   "metadata": {},
   "outputs": [],
   "source": [
    "# Basic Data Analysis\n",
    "# Shape, summary statistics, and info\n",
    "print(\"Shape of dataset:\", df.shape)\n",
    "print(\"\\nData types:\\n\", df.dtypes)\n",
    "print(\"\\nSummary statistics:\\n\", df.describe())"
   ]
  },
  {
   "cell_type": "code",
   "execution_count": null,
   "id": "15a36334",
   "metadata": {},
   "outputs": [],
   "source": [
    "# Handle missing values\n",
    "# Show count of missing values per column\n",
    "df.isnull().sum()\n",
    "\n",
    "# Check dataframs columns\n",
    "print(df.columns)\n"
   ]
  },
  {
   "cell_type": "code",
   "execution_count": 38,
   "id": "5b02e0c3",
   "metadata": {},
   "outputs": [
    {
     "data": {
      "image/png": "[encoded data removed]",
      "text/plain": [
       "<Figure size 800x500 with 1 Axes>"
      ]
     },
     "metadata": {},
     "output_type": "display_data"
    }
   ],
   "source": [
    "# Simple Visualization Example\n",
    "# Replace 'column_name' with a real column from your CSV\n",
    "from matplotlib import pyplot as plt\n",
    "\n",
    "\n",
    "columns = ['login_attempts']\n",
    "\n",
    "for col in columns:\n",
    "    df[col].value_counts().plot(kind='bar', figsize=(8,5))\n",
    "    plt.title(f\"Distribution of {col}\")\n",
    "    plt.show()\n",
    "\n"
   ]
  },
  {
   "cell_type": "code",
   "execution_count": null,
   "id": "1ba281a3",
   "metadata": {},
   "outputs": [],
   "source": [
    "# Use Data Wrangler\n",
    "# Data Wrangler can be launched from JupyterLab or VS Code\n",
    "# In VS Code, right-click your dataframe (df) and select:\n",
    "# \"Open in Data Wrangler\"\n",
    "\n",
    "df\n",
    "#Thats the end of it"
   ]
  }
 ],
 "metadata": {
  "kernelspec": {
   "display_name": ".venv",
   "language": "python",
   "name": "python3"
  },
  "language_info": {
   "codemirror_mode": {
    "name": "ipython",
    "version": 3
   },
   "file_extension": ".py",
   "mimetype": "text/x-python",
   "name": "python",
   "nbconvert_exporter": "python",
   "pygments_lexer": "ipython3",
   "version": "3.13.7"
  }
 },
 "nbformat": 4,
 "nbformat_minor": 5
}
