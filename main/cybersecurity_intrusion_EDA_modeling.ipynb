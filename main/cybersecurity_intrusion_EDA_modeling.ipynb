{
 "cells": [
  {
   "cell_type": "markdown",
   "id": "e90e85bc",
   "metadata": {},
   "source": [
    "# Cybersecurity Intrusion Detection - EDA & Modeling"
   ]
  },
  {
   "cell_type": "code",
   "execution_count": null,
   "id": "18af83fd",
   "metadata": {},
   "outputs": [],
   "source": [
    "\n",
    "import pandas as pd\n",
    "import matplotlib.pyplot as plt\n",
    "import seaborn as sns\n",
    "import numpy as np\n",
    "\n",
    "# Load dataset\n",
    "file_path = \"cybersecurity_intrusion_data_cleaned.csv\"  # Adjust path if needed\n",
    "df = pd.read_csv(file_path)\n",
    "\n",
    "df.info()\n",
    "df.head()\n"
   ]
  },
  {
   "cell_type": "markdown",
   "id": "dbfce02d",
   "metadata": {},
   "source": [
    "## Exploratory Data Analysis"
   ]
  },
  {
   "cell_type": "code",
   "execution_count": null,
   "id": "470c2896",
   "metadata": {},
   "outputs": [],
   "source": [
    "\n",
    "# Target distribution\n",
    "attack_counts = df['attack_detected'].value_counts(normalize=True) * 100\n",
    "\n",
    "plt.figure(figsize=(5,4))\n",
    "sns.countplot(x='attack_detected', data=df, palette='Set2')\n",
    "plt.title('Attack Detection Distribution')\n",
    "plt.xlabel('Attack Detected (0=No, 1=Yes)')\n",
    "plt.ylabel('Count')\n",
    "plt.show()\n",
    "\n",
    "attack_counts\n"
   ]
  },
  {
   "cell_type": "code",
   "execution_count": null,
   "id": "8902fe80",
   "metadata": {},
   "outputs": [],
   "source": [
    "\n",
    "# Correlation heatmap (numeric features)\n",
    "numeric_cols = df.select_dtypes(include=[np.number]).columns.tolist()\n",
    "corr = df[numeric_cols].corr()\n",
    "\n",
    "plt.figure(figsize=(8,6))\n",
    "sns.heatmap(corr, annot=True, fmt=\".2f\", cmap='coolwarm')\n",
    "plt.title('Correlation Heatmap - Numeric Features')\n",
    "plt.show()\n"
   ]
  },
  {
   "cell_type": "code",
   "execution_count": null,
   "id": "50462a67",
   "metadata": {},
   "outputs": [],
   "source": [
    "\n",
    "# Boxplots for numeric vs target\n",
    "for col in ['network_packet_size','session_duration','ip_reputation_score','failed_logins','login_attempts']:\n",
    "    plt.figure(figsize=(6,3))\n",
    "    sns.boxplot(x='attack_detected', y=col, data=df, palette='Set3')\n",
    "    plt.title(f'{col} vs Attack Detected')\n",
    "    plt.show()\n"
   ]
  },
  {
   "cell_type": "code",
   "execution_count": null,
   "id": "a3f6af1b",
   "metadata": {},
   "outputs": [],
   "source": [
    "\n",
    "# Categorical distributions and vs target\n",
    "for col in ['protocol_type','encryption_used','browser_type']:\n",
    "    plt.figure(figsize=(7,3))\n",
    "    sns.countplot(y=col, data=df, order=df[col].value_counts().index, palette='Set1')\n",
    "    plt.title(f'{col} Distribution')\n",
    "    plt.show()\n",
    "\n",
    "    plt.figure(figsize=(7,3))\n",
    "    sns.countplot(x=col, hue='attack_detected', data=df, palette='Set2')\n",
    "    plt.title(f'{col} vs Attack Detected')\n",
    "    plt.xticks(rotation=45)\n",
    "    plt.show()\n"
   ]
  },
  {
   "cell_type": "markdown",
   "id": "4148a0fa",
   "metadata": {},
   "source": [
    "## Modeling (Baseline & Advanced Models)"
   ]
  },
  {
   "cell_type": "code",
   "execution_count": null,
   "id": "9435bcc6",
   "metadata": {},
   "outputs": [],
   "source": [
    "\n",
    "from sklearn.model_selection import train_test_split\n",
    "from sklearn.preprocessing import StandardScaler, OneHotEncoder\n",
    "from sklearn.compose import ColumnTransformer\n",
    "from sklearn.pipeline import Pipeline\n",
    "from sklearn.impute import SimpleImputer\n",
    "from sklearn.metrics import accuracy_score, precision_score, recall_score, f1_score, roc_auc_score, confusion_matrix, classification_report\n",
    "from sklearn.linear_model import LogisticRegression\n",
    "from sklearn.ensemble import RandomForestClassifier\n",
    "from xgboost import XGBClassifier\n",
    "import seaborn as sns\n",
    "\n",
    "# Features and target\n",
    "X = df.drop(columns=['attack_detected','session_id'])\n",
    "y = df['attack_detected']\n",
    "\n",
    "# Train-test split\n",
    "X_train, X_test, y_train, y_test = train_test_split(X, y, test_size=0.2, random_state=42, stratify=y)\n",
    "\n",
    "# Preprocessing\n",
    "categorical_features = [c for c in X.columns if X[c].dtype == 'object']\n",
    "numeric_features = [c for c in X.columns if c not in categorical_features]\n",
    "\n",
    "numeric_transformer = Pipeline(steps=[\n",
    "    ('imputer', SimpleImputer(strategy='median')),\n",
    "    ('scaler', StandardScaler())\n",
    "])\n",
    "\n",
    "categorical_transformer = Pipeline(steps=[\n",
    "    ('imputer', SimpleImputer(strategy='most_frequent')),\n",
    "    ('onehot', OneHotEncoder(handle_unknown='ignore'))\n",
    "])\n",
    "\n",
    "preprocessor = ColumnTransformer(\n",
    "    transformers=[\n",
    "        ('num', numeric_transformer, numeric_features),\n",
    "        ('cat', categorical_transformer, categorical_features)\n",
    "    ])\n"
   ]
  },
  {
   "cell_type": "code",
   "execution_count": null,
   "id": "b4b85187",
   "metadata": {},
   "outputs": [],
   "source": [
    "\n",
    "# Logistic Regression baseline\n",
    "pipe_lr = Pipeline(steps=[('preprocessor', preprocessor),\n",
    "                          ('clf', LogisticRegression(max_iter=1000, class_weight='balanced'))])\n",
    "pipe_lr.fit(X_train, y_train)\n",
    "\n",
    "y_pred = pipe_lr.predict(X_test)\n",
    "y_proba = pipe_lr.predict_proba(X_test)[:,1]\n",
    "\n",
    "print(\"Logistic Regression Results\")\n",
    "print(\"Accuracy:\", accuracy_score(y_test, y_pred))\n",
    "print(\"Precision:\", precision_score(y_test, y_pred))\n",
    "print(\"Recall:\", recall_score(y_test, y_pred))\n",
    "print(\"F1:\", f1_score(y_test, y_pred))\n",
    "print(\"ROC AUC:\", roc_auc_score(y_test, y_proba))\n",
    "print(classification_report(y_test, y_pred))\n",
    "\n",
    "sns.heatmap(confusion_matrix(y_test, y_pred), annot=True, fmt='d')\n",
    "plt.title('Confusion Matrix - Logistic Regression')\n",
    "plt.show()\n"
   ]
  },
  {
   "cell_type": "code",
   "execution_count": null,
   "id": "2c13bcd8",
   "metadata": {},
   "outputs": [],
   "source": [
    "\n",
    "# Random Forest model\n",
    "pipe_rf = Pipeline(steps=[('preprocessor', preprocessor),\n",
    "                          ('clf', RandomForestClassifier(n_estimators=200, random_state=42, class_weight='balanced'))])\n",
    "pipe_rf.fit(X_train, y_train)\n",
    "\n",
    "y_pred_rf = pipe_rf.predict(X_test)\n",
    "y_proba_rf = pipe_rf.predict_proba(X_test)[:,1]\n",
    "\n",
    "print(\"Random Forest Results\")\n",
    "print(\"Accuracy:\", accuracy_score(y_test, y_pred_rf))\n",
    "print(\"Precision:\", precision_score(y_test, y_pred_rf))\n",
    "print(\"Recall:\", recall_score(y_test, y_pred_rf))\n",
    "print(\"F1:\", f1_score(y_test, y_pred_rf))\n",
    "print(\"ROC AUC:\", roc_auc_score(y_test, y_proba_rf))\n",
    "print(classification_report(y_test, y_pred_rf))\n",
    "\n",
    "sns.heatmap(confusion_matrix(y_test, y_pred_rf), annot=True, fmt='d')\n",
    "plt.title('Confusion Matrix - Random Forest')\n",
    "plt.show()\n"
   ]
  },
  {
   "cell_type": "code",
   "execution_count": null,
   "id": "0666865d",
   "metadata": {},
   "outputs": [],
   "source": [
    "\n",
    "# XGBoost model (if available)\n",
    "pipe_xgb = Pipeline(steps=[('preprocessor', preprocessor),\n",
    "                           ('clf', XGBClassifier(use_label_encoder=False, eval_metric='logloss', random_state=42))])\n",
    "pipe_xgb.fit(X_train, y_train)\n",
    "\n",
    "y_pred_xgb = pipe_xgb.predict(X_test)\n",
    "y_proba_xgb = pipe_xgb.predict_proba(X_test)[:,1]\n",
    "\n",
    "print(\"XGBoost Results\")\n",
    "print(\"Accuracy:\", accuracy_score(y_test, y_pred_xgb))\n",
    "print(\"Precision:\", precision_score(y_test, y_pred_xgb))\n",
    "print(\"Recall:\", recall_score(y_test, y_pred_xgb))\n",
    "print(\"F1:\", f1_score(y_test, y_pred_xgb))\n",
    "print(\"ROC AUC:\", roc_auc_score(y_test, y_proba_xgb))\n",
    "print(classification_report(y_test, y_pred_xgb))\n",
    "\n",
    "sns.heatmap(confusion_matrix(y_test, y_pred_xgb), annot=True, fmt='d')\n",
    "plt.title('Confusion Matrix - XGBoost')\n",
    "plt.show()\n"
   ]
  }
 ],
 "metadata": {},
 "nbformat": 4,
 "nbformat_minor": 5
}
